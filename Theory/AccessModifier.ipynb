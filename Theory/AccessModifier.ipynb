{
 "cells": [
  {
   "cell_type": "markdown",
   "metadata": {},
   "source": [
    "# C#"
   ]
  },
  {
   "cell_type": "markdown",
   "metadata": {},
   "source": [
    "## Access modfier:\n",
    "1. Public\n",
    "2. Private\n",
    "3. Protected => It is related to class inheritance (OOP)\n",
    "4. Internal\n",
    "5. Protected internal\n",
    "\n",
    "## Modfiers:\n",
    "1. Const => Not allowed to be used in constructors\n",
    "2. Readonly\n",
    "3. Static"
   ]
  },
  {
   "cell_type": "markdown",
   "metadata": {},
   "source": [
    "<b>Private</b> => It cannot be called from anywhere, except from the class in which it is declared."
   ]
  },
  {
   "cell_type": "markdown",
   "metadata": {},
   "source": [
    "<b>Info 1:</b> \n",
    "1. If a method is declared without an access modifier (either public or private), it is accessible from all classes in the current assembly, but not accessible for any other assemblies (let say from other projects in Visual Studio).\n",
    "2. In method declaration there cannot be more than one access modifier.\n",
    "3. When a method has a keyword static, in its declaration, this method is called static.\n",
    "4. <b>To call a static method</b> there is <b>no need to have an instance of a class in which the static method is declared.</b>\n",
    "5. Method can NOT be declared inside the body of another method.\n",
    "6. A method can be invoked from its own body. Such a call is referred to as recursion. \n",
    "7. When a method is declare, any of the elements from the parameters list are called parameters (formal parameters).\n",
    "8. When we call a method the values we use to assign to its parameters are named as arguments.\n",
    "9. PARAMETERS vs ARGUMENTS\n",
    "10. By passing the argument that are of reference type, the only thing that is copied is the variable that keeps the reference to the object, but not the object data.\n",
    "11. <b>Primitive types are passed by their values, the objects, however, are passed by reference.</b>\n",
    "12. A good programming practice is, when we declare fields in the class, to explicitly initialize them with some default value, even if the default value is zero. This will make our code clearer and easy to read.\n",
    "13. Something more, when we compile the code, the places where const fields are referred are replaced with theirs particular values directly without to use the constant variable at all. For this reason the const fields are called <b>compile-time constants</b>, because they are replaced with the value during the compilation process.\n",
    "14. Fields, declared as readonly, allow one-time initialization either in the moment of the declaration or in the class constructors. Later theirs values cannot be changed. Because of this reason, the readonly fields are called run-time constants – constants, because their values cannot be changed after assignment and run-time, because this process happens during the execution of the program (in runtime).\n",
    "15. The access to the non-static elements of a class (fields and methods) is done via the reserved word <b>this</b> and the operator for acees - <b>\"dot\"</b>.\n",
    "16. When it is not required explicitly the reserved word this can be skipped when we access the elements of the class. For better readability use this keyword even when not required.\n",
    "17. We should know, when we assign access modifier to a filed, one in most of the cases has to be private, because this ensures the highest level of security applied to the field.\n",
    "18. In (C#) it is not allowed to declare a method whose name matches the name of the class."
   ]
  },
  {
   "cell_type": "markdown",
   "metadata": {},
   "source": [
    "<b>Info 2 - Constructors:</b> \n",
    "\n",
    "1. As we already know, the constructors are similar to methods, but they do not have a return type (therefore we called them pseudo-methods).\n",
    "2. In C# it is mandatory that the name of every constructor matches the name of the class in which it resides.\n",
    "3. Creating constructors with different signatures is called constructor overloading.\n",
    "4. When we do not declare any constructor in a given class, the compiler will create one, known as a default implicit constructor.\n",
    "5. If we declare at least one constructor in a given class, the compiler will not create a default constructor for us.\n",
    "6. Although the default constructor and the one without parameters are similar in signature, they are completely different.\n",
    "7. The difference is that the default implicit constructor is created by the compiler, if we do not declare any constructor in our class, and the constructor without parameters is declared by us.\n",
    "8. Moreover, as explained earlier, the default constructor will always have access level protected or public, depending on the access modifier of the class, while the level of access of the constructor without parameters all depends on us – we define it."
   ]
  },
  {
   "cell_type": "markdown",
   "metadata": {},
   "source": [
    "# Static Classes and Static Members\n"
   ]
  },
  {
   "cell_type": "markdown",
   "metadata": {},
   "source": [
    "<b>Info 3 - Static:</b> \n",
    "1. In C# we can declare fields, methods, properties, constructors and classes as static.\n",
    "2. In practice <b>the behavior of the method does not depend of the object state</b> (the values in the object field).\n",
    "3. A static member of the class is every field, property, method or other member, which has a static modifier in its declaration. That means that fields, methods and properties, marked as static, belong to the particular class rather than to any particular object of the given class.\n",
    "4. Therefore, when we mark a field, method or property as static, we can use them without creating any object of the given class.\n",
    "5. <b>Static elements of the class can be used without creating an object of the given class.</b>\n",
    "6. Sometimes, however, we want to have <b>common fields</b> for all objects of a given class. To achieve that, we have to use the static modifier in the field declarations. As we already said, such fields are called <b>static fields</b>. In the literature they are also called <b>class variables</b>.\n",
    "7. All objects, created by the description of a given class (that is, instances of a given class), share the static fields of the class.\n",
    "8. The static variables are shared between all objects of the class and do not belong to any object of the particular class.\n"
   ]
  },
  {
   "cell_type": "markdown",
   "metadata": {},
   "source": [
    "# Constants\n",
    "<b>Types of - Constants:</b> \n",
    "1. Constants the values of which are extracted during the compilation of the program (<b>compile-time constants</b>).\n",
    "2. Constants the values of which are extracted during the execution of the program (<b>run-time constants</b>).\n",
    "\n",
    "\n",
    "\n",
    "## Compile-Time Constants (const)\n",
    "<b>Info 4 - Compile-Time Constants:</b> \n",
    "1. Although the constants declared with a modifier const are static fields, they must not and cannot use the static modifier in their declaration.\n",
    "2. Constants declared with modifier const must be initialized at the moment of their declaration.\n",
    "3. In C#, constants, declared with the modifier <b>const</b>, can be only of the following types:\n",
    "    1. <b>Primitive types</b>: sbyte, byte, short, ushort, int, uint, long, ulong, char, float, double, decimal, bool.\n",
    "    2. <b>Enumerated types</b> (discussed in section \"Enumerations\" at the end of this chapter).\n",
    "    3. <b>Reference types</b> (mostly the type string).\n",
    "4. Therefore, the only possibilities for reference type constants that are declared with modifier const are, as follows:  \n",
    "    1. The constants must be of type <b>string</b>.\n",
    "    2. The value, which we assign to the constant of reference type, other than <b>string</b>, is <b>null</b>.\n",
    "5. Constants declared with modifier const must be of primitive, enumeration or reference type, and if they are of reference type, this type must be either a string or the value, that we assign to the constant, must be null.\n",
    "\n",
    "\n",
    "## Runtime Constants (readonly)\n",
    "<b>Info 5 - Runtime Constants:</b> \n",
    "1. When we want to declare reference type constants, which cannot be calculated during compilation of the program, we must use a combination of static readonly modifiers, instead of const modifier.\n",
    "2. The compile-time constants (const) must be initialized at the moment of declaration, while the run-time constants (static readonly) can be initialized at a later stage, for example in one of the constructors of the class in which they are defined.\n",
    "\n",
    "<b>Info 6 - Constants:</b> \n",
    "1. Constants are used in programming to avoid repetition of numbers, strings or other common values (literals) in the program and to enable them to change easily.\n",
    "2. Values, which occur more than once in the program or are likely to change over time, must be declared as constants."
   ]
  },
  {
   "cell_type": "markdown",
   "metadata": {},
   "source": [
    "# Static Methods\n",
    "<b>Info 7 - Static Methods:</b> \n",
    "1. Like static fields, we declare a method as static if we want it to be associated only with the class and not with a particular class object.\n",
    "2. In most cases static methods are used to access static fields in the class they have been defined.\n",
    "\n",
    "* <b>Accessing Non-Static Members from Non-Static Method</b>\n",
    "* <b>Accessing Static Elements from Non-Static Method</b>\n",
    "* <b>Accessing Static Elements of the Class from Static Method</b>\n",
    "* <b>Accessing Non-Static Elements from Static Method</b>\n",
    "\n",
    "3. Non-static elements of the class may NOT be used in a static context.\n"
   ]
  },
  {
   "cell_type": "markdown",
   "metadata": {},
   "source": [
    "# Static Properties of the Class\n",
    "\n",
    "<b>Info 8:</b>\n",
    "1. The keyword this cannot be used in static properties.\n",
    "2. Static properties can be accessed only through dot notation, applied to the name of the class in which they are declared.\n"
   ]
  },
  {
   "cell_type": "markdown",
   "metadata": {},
   "source": [
    "# Static Classes\n",
    "<b>Info 9:</b>\n",
    "1. When a class is declared as static, it is an indication that this class contains only static members (i.e. static fields, methods, properties) and cannot be instantiated.\n"
   ]
  },
  {
   "cell_type": "markdown",
   "metadata": {},
   "source": [
    "# Static Constructors\n",
    "<b>Info 10:</b>\n",
    "1. Static constructors can be declared both in static and in non-static classes. They are executed <b>only</b> once when the first of the following two events occurs for the first time:\n",
    "    1. An object of class is created.\n",
    "    2. A static element of the class is accessed (field, method, property).\n"
   ]
  },
  {
   "cell_type": "markdown",
   "metadata": {},
   "source": [
    "# Static : https://www.youtube.com/watch?v=IPGizw3YdMg&t=194s\n",
    "\n",
    "<b>INFO 11:</b>\n",
    "1. Static classes cannot be sent as method arguments.\n",
    "2. Static classes cannot be returned from methods.\n",
    "3. If we have to pass something to a method as an argument or receive something from a method as a return argument it can't be static.\n",
    "4. Two statics don't support polymorphism. If we need an instance in order to create something polymorphically or to have a hierarchy of classes that we intend to use polymorphism then we can't make that classes static.\n",
    "5. Static classes cannot implement interfaces.\n"
   ]
  },
  {
   "cell_type": "markdown",
   "metadata": {},
   "source": [
    "<b>INFO 12:</b>\n",
    "1. There are highl level for two types of classes: \n",
    "    1. Classes that we use in some sort of polymorphism for behavioral change at run-time.\n",
    "    2. Classes that there are details or value objects, these are classes that have properties but no methods, in other words they have state but no behavior.\n",
    "2. The other kind of classes has behavior but no state, that it's classe that they have instance for these classes typically have behaviors but no state.\n",
    "3. Autonomous methods...\n",
    "4. Pure functions... \n",
    "5. There are 2 sort of families: \n",
    "    1. The DTOs that are stateless that are stateful but no behavior and are immutable\n",
    "    2. The other classes that have behavior but no state so they have no sort of properties all of these properties are maintained in state and their behavior but they're not necessarily being used in a polymorphic sense.\n",
    "6. There are classes that are polymorphic and so they need to be instance types so the behavior classes for the most part can be static because they are stateless and they have behavior but there is no and their methods are autonomous than or pure so they could be static.\n",
    "7. We need to be careful with statics because if we make a mistake or anybody on the team makes a mistake there are subtle bugs that are hard to pin down and hard to even find or determine that it's happening over here.\n"
   ]
  },
  {
   "cell_type": "markdown",
   "metadata": {},
   "source": [
    "# Static - Memory representation | Conceptual Memory representation of objects in .NET\n",
    "\n",
    "<b>INFO 13:</b>\n",
    "\n"
   ]
  },
  {
   "cell_type": "markdown",
   "metadata": {},
   "source": []
  },
  {
   "cell_type": "markdown",
   "metadata": {},
   "source": []
  },
  {
   "cell_type": "markdown",
   "metadata": {},
   "source": []
  },
  {
   "cell_type": "markdown",
   "metadata": {},
   "source": []
  },
  {
   "cell_type": "markdown",
   "metadata": {},
   "source": []
  },
  {
   "cell_type": "markdown",
   "metadata": {},
   "source": []
  },
  {
   "cell_type": "markdown",
   "metadata": {},
   "source": []
  },
  {
   "cell_type": "markdown",
   "metadata": {},
   "source": []
  }
 ],
 "metadata": {
  "kernelspec": {
   "display_name": ".NET (C#)",
   "language": "C#",
   "name": ".net-csharp"
  },
  "language_info": {
   "file_extension": ".cs",
   "mimetype": "text/x-csharp",
   "name": "C#",
   "pygments_lexer": "csharp",
   "version": "8.0"
  }
 },
 "nbformat": 4,
 "nbformat_minor": 4
}
