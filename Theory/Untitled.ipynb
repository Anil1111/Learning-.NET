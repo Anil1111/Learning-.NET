{
 "cells": [
  {
   "cell_type": "markdown",
   "metadata": {},
   "source": [
    "# C#"
   ]
  },
  {
   "cell_type": "markdown",
   "metadata": {},
   "source": [
    "## Access modfier:\n",
    "1. Public\n",
    "2. Private\n",
    "3. Protected\n",
    "4. Internal\n",
    "5. Const\n",
    "6. Readonly\n",
    "7. Static"
   ]
  },
  {
   "cell_type": "markdown",
   "metadata": {},
   "source": [
    "<b>Private</b> => It cannot be called from anywhere, except from the class in which it is declared."
   ]
  },
  {
   "cell_type": "markdown",
   "metadata": {},
   "source": [
    "<b>Info:</b> \n",
    "1. If a method is declared without an access modifier (either public or private), it is accessible from all classes in the current assembly, but not accessible for any other assemblies (let say from other projects in Visual Studio).\n",
    "2. In method declaration there cannot be more than one access modifier.\n",
    "3. When a method has a keyword static, in its declaration, this method is called static.\n",
    "4. <b>To call a static method</b> there is <b>no need to have an instance of a class in which the static method is declared.</b>\n",
    "5. Method can NOT be declared inside the body of another method.\n",
    "6. A method can be invoked from its own body. Such a call is referred to as recursion. \n",
    "7. When a method is declare, any of the elements from the parameters list are called parameters (formal parameters).\n",
    "8. When we call a method the values we use to assign to its parameters are named as arguments.\n",
    "9. PARAMETERS vs ARGUMENTS\n",
    "10. By passing the argument that are of reference type, the only thing that is copied is the variable that keeps the reference to the object, but not the object data.\n",
    "11. <b>Primitive types are passed by their values, the objects, however, are passed by reference.</b>\n",
    "12. A good programming practice is, when we declare fields in the class, to explicitly initialize them with some default value, even if the default value is zero. This will make our code clearer and easy to read.\n",
    "13. Something more, when we compile the code, the places where const fields are referred are replaced with theirs particular values directly without to use the constant variable at all. For this reason the const fields are called <b>compile-time constants</b>, because they are replaced with the value during the compilation process.\n",
    "14. Fields, declared as readonly, allow one-time initialization either in the moment of the declaration or in the class constructors. Later theirs values cannot be changed. Because of this reason, the readonly fields are called run-time constants – constants, because their values cannot be changed after assignment and run-time, because this process happens during the execution of the program (in runtime).\n",
    "15. \n"
   ]
  },
  {
   "cell_type": "code",
   "execution_count": null,
   "metadata": {},
   "outputs": [],
   "source": []
  },
  {
   "cell_type": "code",
   "execution_count": null,
   "metadata": {},
   "outputs": [],
   "source": []
  },
  {
   "cell_type": "code",
   "execution_count": null,
   "metadata": {},
   "outputs": [],
   "source": []
  },
  {
   "cell_type": "code",
   "execution_count": null,
   "metadata": {},
   "outputs": [],
   "source": []
  },
  {
   "cell_type": "code",
   "execution_count": null,
   "metadata": {},
   "outputs": [],
   "source": []
  },
  {
   "cell_type": "code",
   "execution_count": null,
   "metadata": {},
   "outputs": [],
   "source": []
  },
  {
   "cell_type": "code",
   "execution_count": null,
   "metadata": {},
   "outputs": [],
   "source": []
  },
  {
   "cell_type": "code",
   "execution_count": null,
   "metadata": {},
   "outputs": [],
   "source": []
  },
  {
   "cell_type": "code",
   "execution_count": null,
   "metadata": {},
   "outputs": [],
   "source": []
  },
  {
   "cell_type": "code",
   "execution_count": null,
   "metadata": {},
   "outputs": [],
   "source": []
  }
 ],
 "metadata": {
  "kernelspec": {
   "display_name": ".NET (C#)",
   "language": "C#",
   "name": ".net-csharp"
  },
  "language_info": {
   "file_extension": ".cs",
   "mimetype": "text/x-csharp",
   "name": "C#",
   "pygments_lexer": "csharp",
   "version": "8.0"
  }
 },
 "nbformat": 4,
 "nbformat_minor": 4
}
