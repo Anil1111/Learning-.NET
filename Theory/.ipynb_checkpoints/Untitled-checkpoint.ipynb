{
 "cells": [
  {
   "cell_type": "markdown",
   "metadata": {},
   "source": [
    "# About C#\n",
    "\n"
   ]
  },
  {
   "cell_type": "markdown",
   "metadata": {},
   "source": [
    "<b>1.</b> In the .NET Framework, there is a special component of the <b>CLR</b> that looks after memory management. It is called a <b>\"garbage collector\"</b> (automated memory cleaning system). The garbage collector has the following main tasks: to check when the allocated memory for variables is no longer in use, to release it and make it available for allocation of new objects.\n",
    "\n",
    "<b>2.</b> It is important to note that it is not exactly clear at what moment the memory gets cleaned of unused objects (local variables for example). According to the C# language specifications, it happens at some moment after a given variable gets out of scope but it is not specified, whether this happens instantly, after some time or when the available memory becomes insufficient for the normal program operation.\n",
    "\n",
    "<b>3.</b> Frameworks in .NET: WPF, ASP.NET MVC.\n",
    "\n",
    "<b>4.</b> Microsoft Intermediate Language (MSIL).\n",
    "\n",
    "<b>5.</b> The idea for independence from the environment has been set in the earliest stages of creation of the .NET platform and is implemented with the help of a little trick. The output code is not compiled to instructions for a specific microprocessor and does not use the features of a specific operating system; it is compiled to the so called <b>Microsoft Intermediate Language (MSIL).</b> This <b>MSIL</b> is not directly executed by the microprocessor but <b>from a virtual environment</b> called <b>Common Language Runtime (CLR)</b>.\n",
    "\n",
    "<b>6.</b> <b>Common Language Runtime (CLR) – is the Heart of .NET !</b>\n",
    "\n",
    "<b>7.</b> CLR is an abstract computing machine (virtual machine). Similarly to physical computers, it supports a set of instructions, registries, memory access and input-output operations. CLR ensures a controlled execution of the .NET programs using the full capabilities of the processor and the operating system. CLR also carries out the managed access to the memory and the other resources of the computer, while adhering to the access rules set when the program is executed.\n",
    "\n",
    "<b>8.</b> The .NET platform contains the C# language, CLR and many auxiliary instruments and libraries ready for use.\n",
    "\n",
    "<b>9.</b> There are a few versions of .NET according to the targeted user group:\n",
    "   1. .NET Framework is the most common version of the .NET environment because of its general purpose. It is used in the development of console applications, Windows applications with a graphical user interface, web applications and many more.\n",
    "   2. .NET Compact Framework (CF) is a \"light\" version of the standard .NET Framework and is used in the development of applications for mobile phones and other PDA devices using Windows Mobile Edition.\n",
    "   3. Silverlight is also a \"light\" version of the .NET Framework, intended to be executed on web browsers in order to implement multimedia and Rich Internet Applications.\n",
    "   4. .NET for Windows Store apps is a subset of .NET Framework designed for development and execution of .NET applications in Windows 8 and Windows RT environment (the so called Windows Store Apps).\n",
    "    \n",
    "<b>10.</b> The contemporary programmer uses libraries and components every day, and saves a lot of effort by doing so.\n",
    "\n",
    "<b>11.</b> A .NET technology is the collection of .NET classes, libraries, tools, standards and other programming means and established development models, which determine the technological framework for creating a certain type of application.\n",
    "\n",
    "<b>12.</b> Each .NET library or technology is utilized by creating objects and calling their methods. The set of public classes and methods in the programming libraries is called <b>Application Programming Interface (API)</b> or just <b>API</b>. \n",
    "\n",
    "<b>13.</b> As an example we can look at the .NET API itself; it is a set of .NET class libraries, expanding the capabilities of the language and adding high-level functionality. All .NET technologies offer a public API. The technologies are often referred to simply as API, which adds certain functionality. For example: API for working with files, API for working with charts, API for working with printers, API for reading and creating Word and Excel documents, API for creating PDF documents, Web development API, etc.\n",
    "\n",
    "<b>14.</b> The process, which generates source code from an existing executable binary file (.NET assembly – .exe or .dll) is called decompiling.\n",
    "\n",
    "<b>15.</b>\n",
    "\n",
    "<b>16.</b>\n",
    "\n",
    "<b>17.</b>\n",
    "\n",
    "<b>18.</b>\n",
    "\n",
    "<b>19.</b>\n",
    "\n",
    "<b>20.</b>\n",
    "\n",
    "<b>21.</b>\n",
    "\n",
    "<b>22.</b>"
   ]
  },
  {
   "cell_type": "markdown",
   "metadata": {},
   "source": []
  },
  {
   "cell_type": "markdown",
   "metadata": {},
   "source": []
  },
  {
   "cell_type": "markdown",
   "metadata": {},
   "source": []
  },
  {
   "cell_type": "markdown",
   "metadata": {},
   "source": []
  },
  {
   "cell_type": "markdown",
   "metadata": {},
   "source": []
  },
  {
   "cell_type": "markdown",
   "metadata": {},
   "source": []
  },
  {
   "cell_type": "markdown",
   "metadata": {},
   "source": []
  },
  {
   "cell_type": "markdown",
   "metadata": {},
   "source": []
  }
 ],
 "metadata": {
  "kernelspec": {
   "display_name": ".NET (C#)",
   "language": "C#",
   "name": ".net-csharp"
  },
  "language_info": {
   "file_extension": ".cs",
   "mimetype": "text/x-csharp",
   "name": "C#",
   "pygments_lexer": "csharp",
   "version": "8.0"
  }
 },
 "nbformat": 4,
 "nbformat_minor": 4
}
