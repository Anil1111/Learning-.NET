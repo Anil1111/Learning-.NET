{
 "cells": [
  {
   "cell_type": "markdown",
   "metadata": {},
   "source": [
    "# Generics in C#\n"
   ]
  },
  {
   "cell_type": "markdown",
   "metadata": {},
   "source": [
    "<b>Def:</b> Generics introduce the concept of type parameters to .NET, which make it possible to design classes and methods that defer the specification of one or more types until the class or method is declared and instantiated by client code. \n",
    "\n",
    "<b>Info: </b>\n",
    "1. Generic classes and methods combine:\n",
    "    1. reusability\n",
    "    2. type safety\n",
    "    3. efficiency\n",
    "2. Generics are most frequently used with collections and the methods that operate on them.\n",
    "3. The non-generic collections, such as ArrayList are not recommended and are maintained for compatibility purposes. \n",
    "4. In most cases, you should use the <b>List< T > </b>class provided by .NET instead of creating your own. The type parameter <b>T</b> is used in several locations where a concrete type would ordinarily be used to indicate the type of the item stored in the list. It is used in the following ways:\n",
    "    1. As the type of a method parameter in the AddHead method.\n",
    "    2. As the return type of the Data property in the nested Node class.\n",
    "    3. As the type of the private member data in the nested class.\n",
    "    \n",
    "5. Use generic types to maximize code reuse, type safety, and performance.\n",
    "6. The most common use of generics is to create collection classes.\n",
    "7. The .NET class library contains several generic collection classes in the System.Collections.Generic namespace. These should be used whenever possible instead of classes such as ArrayList in the System.Collections namespace.\n",
    "8. You can create your own generic interfaces, classes, methods, events, and delegates.\n",
    "9. Generic classes may be constrained to enable access to methods on particular data types.\n",
    "10. Information on the types that are used in a generic data type may be obtained at run-time by using reflection."
   ]
  },
  {
   "cell_type": "markdown",
   "metadata": {},
   "source": [
    "<b>Info: </b>\n",
    "1. Generics let you tailor a method, class, structure, or interface to the precise data type it acts upon. For example, instead of using the Hashtable class, which allows keys and values to be of any type, you can use the Dictionary<TKey,TValue> generic class and specify the types allowed for the key and the value. Among the benefits of generics are increased code reusability and type safety.\n"
   ]
  },
  {
   "cell_type": "markdown",
   "metadata": {},
   "source": [
    "### Generics terminology\n",
    "\n",
    "* The following terms are used to discuss generics in .NET:\n",
    "1. A generic type definition is a class, structure, or interface declaration that functions as a template, with placeholders for the types that it can contain or use. For example, the System.Collections.Generic.Dictionary<TKey,TValue> class can contain two types: keys and values. Because a generic type definition is only a template, you cannot create instances of a class, structure, or interface that is a generic type definition.\n",
    "2. Generic type parameters, or type parameters, are the placeholders in a generic type or method definition. The System.Collections.Generic.Dictionary<TKey,TValue> generic type has two type parameters, TKey and TValue, that represent the types of its keys and values.\n",
    "3. A constructed generic type, or constructed type, is the result of specifying types for the generic type parameters of a generic type definition.\n",
    "4. A generic type argument is any type that is substituted for a generic type parameter.\n",
    "5. The general term generic type includes both constructed types and generic type definitions.\n",
    "6. Covariance and contravariance of generic type parameters enable you to use constructed generic types whose type arguments are more derived (covariance) or less derived (contravariance) than a target constructed type. Covariance and contravariance are collectively referred to as variance. \n",
    "7. Constraints are limits placed on generic type parameters. For example, you might limit a type parameter to types that implement the System.Collections.Generic.IComparer< T > generic interface, to ensure that instances of the type can be ordered. You can also constrain type parameters to types that have a particular base class, that have a parameterless constructor, or that are reference types or value types. Users of the generic type cannot substitute type arguments that do not satisfy the constraints.\n",
    "8. A generic method definition is a method with two parameter lists: a list of generic type parameters and a list of formal parameters. Type parameters can appear as the return type or as the types of the formal parameters.\n"
   ]
  },
  {
   "cell_type": "markdown",
   "metadata": {},
   "source": [
    "### Advantages and disadvantages of generics\n",
    "\n",
    "* There are many advantages to using generic collections and delegates:\n",
    "1. Type safety. Generics shift the burden of type safety from you to the compiler. There is no need to write code to test for the correct data type because it is enforced at compile time. The need for type casting and the possibility of run-time errors are reduced.\n",
    "2. Less code and code is more easily reused. There is no need to inherit from a base type and override members. For example, the LinkedList< T > is ready for immediate use.\n",
    "3. Better performance. Generic collection types generally perform better for storing and manipulating value types because there is no need to box the value types.\n",
    "4. Better performance. Generic collection types generally perform better for storing and manipulating value types because there is no need to box the value types.\n",
    "5. Generic delegates enable type-safe callbacks without the need to create multiple delegate classes. For example, the Predicate< T> generic delegate allows you to create a method that implements your own search criteria for a particular type and to use your method with methods of the Array type such as Find, FindLast, and FindAll.\n",
    "6. Generics streamline dynamically generated code. When you use generics with dynamically generated code you do not need to generate the type. This increases the number of scenarios in which you can use lightweight dynamic methods instead of generating entire assemblies. \n",
    "\n",
    "* The following are some limitations of generics:\n",
    "1. Generic types can be derived from most base classes, such as MarshalByRefObject (and constraints can be used to require that generic type parameters derive from base classes like MarshalByRefObject). However, .NET does not support context-bound generic types. A generic type can be derived from ContextBoundObject, but trying to create an instance of that type causes a TypeLoadException.\n",
    "2. Enumerations cannot have generic type parameters. An enumeration can be generic only incidentally (for example, because it is nested in a generic type that is defined using Visual Basic, C#, or C++). \n",
    "3. Lightweight dynamic methods cannot be generic.\n",
    "4. In Visual Basic, C#, and C++, a nested type that is enclosed in a generic type cannot be instantiated unless types have been assigned to the type parameters of all enclosing types. Another way of saying this is that in reflection, a nested type that is defined using these languages includes the type parameters of all its enclosing types. This allows the type parameters of enclosing types to be used in the member definitions of a nested type. "
   ]
  },
  {
   "cell_type": "markdown",
   "metadata": {},
   "source": [
    "### Generic types overview\n",
    "<b>Info:</b>\n",
    "1. First introduced in the .NET Framework 2.0, generics are essentially a \"code template\" that allows developers to define type-safe data structures without committing to an actual data type. For example, List< T> is a generic collection that can be declared and used with any type, such as List< int>, List< string>, or List< Person>.\n",
    "2. To understand why generics are useful, let's take a look at a specific class before and after adding generics: ArrayList. In .NET Framework 1.0, the ArrayList elements were of type Object. Any element added to the collection was silently converted into an Object. The same would happen when reading elements from the list. This process is known as boxing and unboxing, and it impacts performance. Aside from performance, however, there's no way to determine the type of data in the list at compile time, which makes for some fragile code. Generics solve this problem by defining the type of data each instance of list will contain. For example, you can only add integers to List< int> and only add Persons to List< Person>.\n",
    "3. Generics are also available at run time. The runtime knows what type of data structure you're using and can store it in memory more efficiently.\n"
   ]
  },
  {
   "cell_type": "markdown",
   "metadata": {},
   "source": []
  },
  {
   "cell_type": "markdown",
   "metadata": {},
   "source": []
  },
  {
   "cell_type": "markdown",
   "metadata": {},
   "source": []
  },
  {
   "cell_type": "markdown",
   "metadata": {},
   "source": []
  },
  {
   "cell_type": "markdown",
   "metadata": {},
   "source": []
  },
  {
   "cell_type": "markdown",
   "metadata": {},
   "source": []
  },
  {
   "cell_type": "markdown",
   "metadata": {},
   "source": []
  },
  {
   "cell_type": "markdown",
   "metadata": {},
   "source": []
  }
 ],
 "metadata": {
  "kernelspec": {
   "display_name": ".NET (C#)",
   "language": "C#",
   "name": ".net-csharp"
  },
  "language_info": {
   "file_extension": ".cs",
   "mimetype": "text/x-csharp",
   "name": "C#",
   "pygments_lexer": "csharp",
   "version": "8.0"
  }
 },
 "nbformat": 4,
 "nbformat_minor": 4
}
