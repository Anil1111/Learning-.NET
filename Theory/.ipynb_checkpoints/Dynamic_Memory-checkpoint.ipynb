{
 "cells": [
  {
   "cell_type": "markdown",
   "metadata": {},
   "source": [
    "# Dynamic Memory"
   ]
  },
  {
   "cell_type": "markdown",
   "metadata": {},
   "source": [
    "<b>Links: </b>\n",
    "1. Basics of Dynamic Memory Allocation: https://www.youtube.com/watch?v=udfbq4M2Kfc\n",
    "2. Dynamic Memory Allocation: https://www.youtube.com/watch?v=9uhSYDY4sxA\n",
    "3. Dynamic Memory Allocation - Storing Objects in Array: https://www.youtube.com/watch?v=0OkwPAogn88\n",
    "4. Why My Computer Wants to Forget (How Dynamic Memory Works) - Computerphile: https://www.youtube.com/watch?v=0A1e8eceIsY\n",
    "5. How Computer Memory Works - Computerphile: https://www.youtube.com/watch?v=XETZoRYdtkw"
   ]
  },
  {
   "cell_type": "markdown",
   "metadata": {},
   "source": []
  },
  {
   "cell_type": "markdown",
   "metadata": {},
   "source": []
  },
  {
   "cell_type": "markdown",
   "metadata": {},
   "source": []
  },
  {
   "cell_type": "markdown",
   "metadata": {},
   "source": []
  },
  {
   "cell_type": "markdown",
   "metadata": {},
   "source": []
  },
  {
   "cell_type": "markdown",
   "metadata": {},
   "source": []
  },
  {
   "cell_type": "markdown",
   "metadata": {},
   "source": []
  },
  {
   "cell_type": "markdown",
   "metadata": {},
   "source": []
  },
  {
   "cell_type": "markdown",
   "metadata": {},
   "source": []
  }
 ],
 "metadata": {
  "kernelspec": {
   "display_name": ".NET (C#)",
   "language": "C#",
   "name": ".net-csharp"
  },
  "language_info": {
   "file_extension": ".cs",
   "mimetype": "text/x-csharp",
   "name": "C#",
   "pygments_lexer": "csharp",
   "version": "8.0"
  }
 },
 "nbformat": 4,
 "nbformat_minor": 4
}
