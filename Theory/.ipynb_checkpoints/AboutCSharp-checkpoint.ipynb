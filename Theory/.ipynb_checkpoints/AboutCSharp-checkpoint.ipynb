{
 "cells": [
  {
   "cell_type": "markdown",
   "metadata": {},
   "source": [
    "# About C#\n",
    "\n"
   ]
  },
  {
   "cell_type": "markdown",
   "metadata": {},
   "source": [
    "<b>1.</b> In the .NET Framework, there is a special component of the <b>CLR</b> that looks after memory management. It is called a <b>\"garbage collector\"</b> (automated memory cleaning system). The garbage collector has the following main tasks: to check when the allocated memory for variables is no longer in use, to release it and make it available for allocation of new objects.\n",
    "\n",
    "<b>2.</b> It is important to note that it is not exactly clear at what moment the memory gets cleaned of unused objects (local variables for example). According to the C# language specifications, it happens at some moment after a given variable gets out of scope but it is not specified, whether this happens instantly, after some time or when the available memory becomes insufficient for the normal program operation.\n",
    "\n",
    "<b>3.</b> Frameworks in .NET: WPF, ASP.NET MVC.\n",
    "\n",
    "<b>4.</b> Microsoft Intermediate Language (MSIL).\n",
    "\n",
    "<b>5.</b> The idea for independence from the environment has been set in the earliest stages of creation of the .NET platform and is implemented with the help of a little trick. The output code is not compiled to instructions for a specific microprocessor and does not use the features of a specific operating system; it is compiled to the so called <b>Microsoft Intermediate Language (MSIL).</b> This <b>MSIL</b> is not directly executed by the microprocessor but <b>from a virtual environment</b> called <b>Common Language Runtime (CLR)</b>.\n",
    "\n",
    "<b>6.</b> <b>Common Language Runtime (CLR) – is the Heart of .NET !</b>\n",
    "\n",
    "<b>7.</b> CLR is an abstract computing machine (virtual machine). Similarly to physical computers, it supports a set of instructions, registries, memory access and input-output operations. CLR ensures a controlled execution of the .NET programs using the full capabilities of the processor and the operating system. CLR also carries out the managed access to the memory and the other resources of the computer, while adhering to the access rules set when the program is executed.\n",
    "\n",
    "<b>8.</b> The .NET platform contains the C# language, CLR and many auxiliary instruments and libraries ready for use.\n",
    "\n",
    "<b>9.</b> There are a few versions of .NET according to the targeted user group:\n",
    "   1. .NET Framework is the most common version of the .NET environment because of its general purpose. It is used in the development of console applications, Windows applications with a graphical user interface, web applications and many more.\n",
    "   2. .NET Compact Framework (CF) is a \"light\" version of the standard .NET Framework and is used in the development of applications for mobile phones and other PDA devices using Windows Mobile Edition.\n",
    "   3. Silverlight is also a \"light\" version of the .NET Framework, intended to be executed on web browsers in order to implement multimedia and Rich Internet Applications.\n",
    "   4. .NET for Windows Store apps is a subset of .NET Framework designed for development and execution of .NET applications in Windows 8 and Windows RT environment (the so called Windows Store Apps).\n",
    "    \n",
    "<b>10.</b> The contemporary programmer uses libraries and components every day, and saves a lot of effort by doing so.\n",
    "\n",
    "<b>11.</b> A .NET technology is the collection of .NET classes, libraries, tools, standards and other programming means and established development models, which determine the technological framework for creating a certain type of application.\n",
    "\n",
    "<b>12.</b> Each .NET library or technology is utilized by creating objects and calling their methods. The set of public classes and methods in the programming libraries is called <b>Application Programming Interface (API)</b> or just <b>API</b>. \n",
    "\n",
    "<b>13.</b> As an example we can look at the .NET API itself; it is a set of .NET class libraries, expanding the capabilities of the language and adding high-level functionality. All .NET technologies offer a public API. The technologies are often referred to simply as API, which adds certain functionality. For example: API for working with files, API for working with charts, API for working with printers, API for reading and creating Word and Excel documents, API for creating PDF documents, Web development API, etc.\n",
    "\n",
    "<b>14.</b> The process, which generates source code from an existing executable binary file (.NET assembly – .exe or .dll) is called decompiling.\n",
    "\n",
    "<b>15.</b> CTS = Common Type System. (in .NET Framework)\n",
    "\n",
    "<b>16.</b> <b>int</b> type in C5 => <b>System.Int32</b> type in CTS. |signed 32-bit integer|\n",
    "\n",
    "<b>17.</b> <b>long</b> type in C5 => <b>System.Int64</b> type in CTS.\n",
    "\n",
    "<b>18.</b> By default all real numbers are considered <b>double</b>.\n",
    "\n",
    "<b>19.</b> The real types in C# we went over – float and double – differ not only by the range of possible values they can take, but also by their precision (the number of decimal digits, which they can preserve). The first type has a precision of 7 digits, the second – 15-16 digits."
   ]
  },
  {
   "cell_type": "markdown",
   "metadata": {},
   "source": [
    "### Object Type\n",
    "\n",
    "<b>Info:</b>\n",
    "1. Object type is a special type, which is the parent of all other types in the .NET Framework.\n",
    "2. Declared with the keyword object, it can take values from any other type.\n",
    "3. <b>It is a reference type, i.e. an index (address) of a memory area which stores the actual value.</b>"
   ]
  },
  {
   "cell_type": "markdown",
   "metadata": {},
   "source": [
    "### Nullable Types\n",
    "\n",
    "<b>Info:</b>\n",
    "1. Nullable types are specific wrappers around the value types (as int, double and bool) that allow storing data with a null value.\n",
    "2. This provides opportunity for types that generally do not allow lack of value (i.e. value null) to be used as reference types and to accept both normal values and the special one null. Thus nullable types hold an optional value.\n",
    "3. Nullable< int> [variable name] = null; |OR| [variable_type]? [variable name] = null; |OR|  [variable_type]? [variable name] = [variable name];\n"
   ]
  },
  {
   "cell_type": "markdown",
   "metadata": {},
   "source": [
    "### Variables:\n",
    "\n",
    "<b>Info: </b>\n",
    "1. A variable is a named area of memory, which stores a value from a particular data type, and that area of memory is accessible in the program by its name.\n",
    "2. Variables can be stored directly in the <b>operational memory of the program</b>(in the <b>stack</b>)  or in the <b>dynamic memory</b> in which larger objects are stored (such as character strings and arrays). \n",
    "\n",
    "\n",
    "3. <b>Primitive data types</b> (numbers, char, bool) are called value types because they store their value directly in the <b>program stack</b>.\n",
    "\n",
    "\n",
    "4.  <b>Reference data types</b> (such as strings, objects and arrays) are an address, pointing to the <b>dynamic memory</b> where their value is stored. They can be <b>dynamically allocated and released</b> i.e. their size is not fixed in advance contrary to the case of value types.\n",
    "\n"
   ]
  },
  {
   "cell_type": "markdown",
   "metadata": {},
   "source": [
    "#### Naming Variables - Rules\n",
    "\n",
    "* The name of the variable can be any of our choice but must follow certain rules defined in the C# language specification:\n",
    "1. Variable names can contain the letters a-z, A-Z, the digits 0-9 as well as the character '_'.\n",
    "2. Variable names cannot start with a digit.\n",
    "3. Variable names cannot coincide with a keyword of the C# language. For example, base, char, default, int, object, this, null and many others cannot be used as variable names.\n",
    "\n",
    "#### Naming Variables - Recommendations\n",
    "\n",
    "1. The names should be descriptive and explain what the variable is used for. For example, an appropriate name for a variable storing a person’s name is personName and inappropriate name is a37.\n",
    "2. Only Latin characters should be used. Although Cyrillic is allowed by the compiler, it is not a good practice to use it in variable names or in the rest of the identifiers within the program.\n",
    "3. In C# it is generally accepted that variable names should start with a small letter and include small letters, every new word, however, starts with a capital letter. For instance, the name firstName is correct and better to use than firstname or first_name. Usage of the character _ in the variable names is considered a bad naming style.\n",
    "4. Variable names should be neither too long nor too short – they just need to clarify the purpose of the variable within its context.\n",
    "5. Uppercase and lowercase letters should be used carefully as C# distinguishes them. For instance, age and Age are different variables.\n",
    "\n",
    "* <b>Always try to use short and precise names when naming the variables. Follow the rule that the variable name should state what it is used for, e.g. the name should answer the question \"what value is stored in this variable\". When this condition is not fulfilled then try to find a better name. Digits are not appropriate to be used in variable names.</b>"
   ]
  },
  {
   "cell_type": "markdown",
   "metadata": {},
   "source": [
    "### Value and Reference Types\n",
    "\n",
    "<b>Info:</b>\n",
    "\n",
    "1. Data types in C# are two types: value and reference.\n",
    "\n",
    "### Value Types\n",
    "<b>Info:</b>\n",
    "\n",
    "1. <b>Value types</b> are stored in the <b>program execution stack</b> and directly contain their value.\n",
    "2. Value types are the primitive numeric types, the character type and the Boolean type: <b>sbyte, byte, short, ushort, int, long, ulong, float, double, decimal, char, bool</b>.\n",
    "3. The memory allocated for them is released when the program exits their range, i.e. when the block of code in which they are defined completes its execution.\n",
    "4. For example, a variable declared in the method Main() of the program is stored in the stack until the program completes execution of this method, i.e. until it finishes (C# programs terminate after fully executing the Main() method)."
   ]
  },
  {
   "cell_type": "markdown",
   "metadata": {},
   "source": [
    "### Reference Types\n",
    "<b>Info:</b>\n",
    "\n",
    "1. <b>Reference types</b> keep a <b>reference (address), in the program execution stack,</b> and that <b>reference points to the dynamic memory (heap)</b>, where their <b>value</b> is stored.\n",
    "2. The reference is a <b>pointer</b> (address of the memory cell) <b>indicating the actual location of the value in the heap</b>.\n",
    "3. All reference types can hold a <b>null</b> value. This is a special service value, which means that there is no value. \n",
    "4. <b>Reference types</b> allocate <b>dynamic memory</b> for their creation.\n",
    "5. They also release some dynamic memory for a <b>memory cleaning (garbage collector)</b>, when it is no longer used by the program.\n",
    "6. It is unknown exactly when a given reference variable will be released of the garbage collector as this depends on the memory load and other factors. Since the allocation and release of memory is a slow operation, <b>it can be said that the reference types are slower than the value ones.</b>\n",
    "7. As <b>reference data types</b> are <b>allocated and released dynamically</b> during program execution, their size might not be known in advance.\n",
    "8. Reference types are all <b>classes</b>, <b>arrays</b> and <b>interfaces</b> such as the types: <b>object, string, byte[]</b>.\n",
    "9. For now, it is enough to know that all types, which are not value, are reference and their values are stored in the <b>heap</b> (the dynamically allocated memory)."
   ]
  },
  {
   "cell_type": "markdown",
   "metadata": {},
   "source": [
    "### Literals\n",
    "<b>Info:</b>\n",
    "1. Primitive types, which we already met, are special data types built into the C# language. Their values specified in the source code of the program are called <b>literals.</b>\n",
    "2. Types of <b>Literals</b>:\n",
    "    1. Boolean\n",
    "    2. Integer\n",
    "    3. Real\n",
    "    4. Character\n",
    "    5. String\n",
    "    6. Object literal null\n",
    "3. The character \\ (backslash) is also called an <b>escaping character</b> because it allows the display on screen (or other output device) of characters that have special meaning or effect and cannot be represented directly in the source code."
   ]
  },
  {
   "cell_type": "markdown",
   "metadata": {},
   "source": [
    "### Operators\n",
    "<b>Info:</b>\n",
    "\n",
    "1. All binary operators in C# are left-associative, i.e. the expressions are calculated from left to right, except for the assignment operators. All assignment operators and conditional operators ?: and ?? are right-associative, i.e. the expressions are calculated from right to left. The unary operators are not associative.\n",
    "2. <b>Highest priority:</b>\n",
    "    1. (, )\n",
    "    2. ++, -- (as postfix), new, (type), typeof, sizeof\n",
    "    3. ++, -- (as prefix), +, - (unary), !, ~\n",
    "    4. *, /, %\n",
    "    5. + (string concatenation)\n",
    "    6. +, -\n",
    "    7. <<, >>\n",
    "    8. <, >, <=, >=, is, as\n",
    "    9. ==, !=\n",
    "    10. &, ^, |\n",
    "3. <b>Lowest priority:</b>\n",
    "    1. &&\n",
    "    2. ||\n",
    "    3. ?:, ??\n",
    "    4. =, *=, /=, %=, +=, -=, <<=, >>=, &=, ^=, |=\n"
   ]
  },
  {
   "cell_type": "markdown",
   "metadata": {},
   "source": [
    "### Arithmetical Operators\n",
    "\n",
    "1. <b>Division operator</b>: <b>/</b> (<b>integer division</b>)\n",
    "    1. The division operator / has different effect on integer and real numbers. When we divide an integer by an integer (like int, long and sbyte) the returned value is an integer (no rounding, the fractional part is cut). Such division is called an integer division. Example of integer division: 7 / 3 = 2.\n",
    "    2. Integer division by 0 is not allowed and causes a runtime exception DivideByZeroException.\n",
    "2. <b>Real division</b>\n",
    "    1. When dividing two real numbers or two numbers, one of which is real (e.g. float, double, etc.), a real division is done (not integer), and the result is a real number with a whole and a fractional part. For example: 5.0 / 2 = 2.5. In the division of real numbers it is allowed to divide by 0.0 and respectively the result is +∞ (Infinity), -∞ (-Infinity) or NaN (invalid value).\n",
    "3. <b>increasing by one</b>: <b>++</b> (<b>increment</b>)"
   ]
  },
  {
   "cell_type": "markdown",
   "metadata": {},
   "source": [
    "### Logical Operators\n",
    "<b>Info:</b>\n",
    "\n",
    "1. Logical (Boolean) operators take Boolean values and return a Boolean result (true or false).\n",
    "2. The basic Boolean operators are <b>\"AND\" (&&)</b>, <b>\"OR\" (||)</b>, <b>\"exclusive OR\" (^)</b> and <b>logical negation (!)</b>.\n",
    "3. Laws of De Morgan: \n",
    "    1. Logical operations fall under the laws of De Morgan from the mathematical logic: \n",
    "        1. !(a && b) == (!a || !b)\n",
    "        2. !(a || b) == (!a && !b)"
   ]
  },
  {
   "cell_type": "markdown",
   "metadata": {},
   "source": [
    "### Operator for Concatenation of Strings\n",
    "<b>Info:</b>\n",
    "\n",
    "1. <b>Concatenation (joining, gluing) of strings is a slow operation and should be used carefully. It is recommended to use the StringBuilder class for iterative (repetitive) operations on strings.</b>\n",
    "2. The <b>StringBuilder class</b> must be used for join operations on strings performed in a loop."
   ]
  },
  {
   "cell_type": "markdown",
   "metadata": {},
   "source": [
    "### Bitwise Operators\n",
    "<b>Info:</b>\n",
    "\n",
    "1. In programming there are two bitwise operators that have no analogue in logical operators. These are the bit shift left (<<) and bit shift right (>>). Used on numerical values, they move all the bits of the value to the left or right. The bits that fall outside the number are lost and replaced with 0.\n",
    "2. Bit shifting itself can be represented as multiplication (bitwise shifting left) or division (bitwise shifting right) by a power of 2.\n"
   ]
  },
  {
   "cell_type": "markdown",
   "metadata": {},
   "source": [
    "### The \".\" Operator\n",
    "<b>Info:</b>\n",
    "1. The <b>access operator \".\" (dot)</b> is used to access the member fields or methods of a class or object."
   ]
  },
  {
   "cell_type": "markdown",
   "metadata": {},
   "source": [
    "### Square Brackets [ ] Operator\n",
    "<b>Info:</b>\n",
    "1. <b>Square brackets []</b> are used to <b>access elements of an array by index</b>, they are the so-called <b>indexer</b>. \n",
    "2. Indexers are also used for accessing characters in a string.\n"
   ]
  },
  {
   "cell_type": "markdown",
   "metadata": {},
   "source": [
    "### Brackets () Operator\n",
    "<b>Info:</b>\n",
    "1. <b>Brackets ()</b> are used to <b>override the priority of execution</b> of expressions and operators."
   ]
  },
  {
   "cell_type": "markdown",
   "metadata": {},
   "source": [
    "### Type Conversion Operator\n",
    "<b>Info:</b>\n",
    "1. The operator for type conversion <b>(type)</b> is used to <b>convert</b> a variable from one type to another."
   ]
  },
  {
   "cell_type": "markdown",
   "metadata": {},
   "source": [
    "### Operator \"as\"\n",
    "<b>Info:</b>\n",
    "1. The operator <b>as</b> also is used for <b>type conversion</b> but invalid conversion returns null, not an exception."
   ]
  },
  {
   "cell_type": "markdown",
   "metadata": {},
   "source": [
    "### Operator \"new\"\n",
    "<b>Info:</b>\n",
    "1. The <b>new</b> operator is used to <b>create and initialize new objects</b>."
   ]
  },
  {
   "cell_type": "markdown",
   "metadata": {},
   "source": [
    "### Operator \"is\"\n",
    "<b>Info:</b>\n",
    "1. The <b>is</b> operator is used to check whether an object is compatible with a given type (<b>check object's type</b>)."
   ]
  },
  {
   "cell_type": "markdown",
   "metadata": {},
   "source": [
    "### Operator \"??\"\n",
    "<b>Info:</b>\n",
    "1. The operator <b>??</b> is similar to the conditional operator <b>?:</b>. The difference is that it is placed between two operands and returns the left operand only if its value is not null, otherwise it returns the right operand."
   ]
  },
  {
   "cell_type": "markdown",
   "metadata": {},
   "source": [
    "## Type Conversion and Casting\n",
    "<b>Info:</b>\n",
    "\n",
    "1. <b>Type conversion (typecasting)</b> can be <b>explicit</b> and <b>implicit</b>.\n",
    "2. Specific conversion from type <b>S</b> to type <b>T</b> allows the expression of type S to be treated as an expression of type T during the execution of the program.\n",
    "3. In some cases this will require a validation of the transformation. Here are some examples:\n",
    "    1. Conversion of type <b>object</b> to type <b>string</b> will require verification at runtime to ensure that the value is really an instance of type <b>string</b>.\n",
    "    2. Conversion from <b>string</b> to <b>object</b> does not require any verification. The type <b>string</b> is an inheritor of the type <b>object</b> and can be converted to its base class without a risk of an error or data loss.\n",
    "    3. Conversion of type <b>int</b> to <b>long</b> can be made without verification during the execution, because there is no risk of data loss since the set of values of type <b>int</b> is a subset of values of type <b>long</b>.\n",
    "    4. Conversion from type <b>double</b> to <b>long</b> requires conversion of 64-bit floating-point value to 64-bit integer. Depending on the value, data loss is possible and therefore it is necessary to convert the types explicitly.\n",
    "4. The type conversion operator may also be used in case of an intentional implicit conversion. This contributes to the readability of code, reducing the chance for errors and it is considered good practice by many programmers."
   ]
  },
  {
   "cell_type": "markdown",
   "metadata": {},
   "source": [
    "### Implicit Type Conversion\n",
    "<b>Info:</b>\n",
    "1. Implicit (hidden) type conversion is possible only when there is no risk of data loss during the conversion, i.e. when converting from a lower range type to a larger range (e.g. from <b>int</b> to <b>long</b>).\n",
    "2. To make an implicit conversion it is not necessary to use any operator and therefore such transformation is called implicit.\n",
    "3. The <b>implicit conversion</b> is done automatically by the compiler when you assign a value with lower range to a variable with larger range or if the expression has several types with different ranges.\n",
    "4. In such case the conversion is executed into the type with the highest range."
   ]
  },
  {
   "cell_type": "markdown",
   "metadata": {},
   "source": [
    "### Possible Implicit Conversions\n",
    "<b>Info:</b>\n",
    "\n",
    "1. Here are some possible implicit conversions of primitive data types in C#:\n",
    "    * sbyte → short, int, long, float, double, decimal;\n",
    "    * byte → short, ushort, int, uint, long, ulong, float, double, decimal;\n",
    "    * short → int, long, float, double, decimal;\n",
    "    * ushort → int, uint, long, ulong, float, double, decimal;\n",
    "    * char → ushort, int, uint, long, ulong, float, double, decimal (although char is a character type in some cases it may be regarded as a number and have a numeric type of behavior, it can even participate in numeric expressions);\n",
    "    * uint → long, ulong, float, double, decimal;\n",
    "    * int → long, float, double, decimal;\n",
    "    * long → float, double, decimal;\n",
    "    * ulong → float, double, decimal;\n",
    "    * float → double.\n",
    "2. There is <b>no data loss when converting types of smaller range to types with a larger range</b>.\n",
    "3. When you convert type <b>int</b> to type <b>float</b> (32-bit values), the difference is that <b>int</b> uses all bits for a whole number, whereas <b>float</b> has a part of bits used for representation of a fractional part.\n",
    "4. Hence, loss of precision is possible because of rounding when conversion from <b>int</b> to <b>float</b> is made. The same applies for the conversion of 64-bit <b>long</b> to 64-bit <b>double</b>."
   ]
  },
  {
   "cell_type": "markdown",
   "metadata": {},
   "source": [
    "### Explicit Type Conversion\n",
    "<b>Info:</b>\n",
    "1. Explicit type conversion is used whenever there is a possibility of data loss.\n",
    "2. When converting floating point type to integer type there is always a loss of data coming from the elimination of the fractional part and an <b>explicit conversion</b> is obligatory (e.g. <b>double</b> to <b>long</b>).\n",
    "3. There may also be data loss when converting a type with a wider range to type with a narrower one (<b>double</b> to <b>float</b> or <b>long</b> to <b>int</b>).\n",
    "4. <b>It is not always possible to predict what the value of a variable will be after its scope overflows! Therefore, use sufficiently large types and be careful when switching to a \"smaller\" type.</b>\n"
   ]
  },
  {
   "cell_type": "markdown",
   "metadata": {},
   "source": [
    "<b>General Info:</b>\n",
    "1. <b>C# is a strongly typed programming language !!</b>."
   ]
  },
  {
   "cell_type": "markdown",
   "metadata": {},
   "source": [
    "### Forcing Overflow Exceptions during Casting\n",
    "<b>Info: </b>\n",
    "1. Sometimes it is convenient, instead of getting the wrong result, when a type overflows during switching from larger to smaller type, to get notification of the problem.\n",
    "2. This is done by the keyword <b>checked</b> which includes a <b>check for overflow in integer types</b>."
   ]
  },
  {
   "cell_type": "markdown",
   "metadata": {},
   "source": [
    "### Possible Explicit Conversions\n",
    "<b>Info:</b>\n",
    "1. The explicit conversions between numeral types in C# are possible between any couple among the following types:\n",
    "    * sbyte, byte, short, ushort, char, int, uint, long, ulong, float, double, decimal\n",
    "2. In these conversions data can be lost, like data about the number size or information about its precision.\n",
    "3. Notice that conversion to or from <b>string</b> is not possible through typecasting."
   ]
  },
  {
   "cell_type": "markdown",
   "metadata": {},
   "source": [
    "### Conversion to String\n",
    "<b>Info:</b>\n",
    "1. If it is necessary we can convert any type of data, including the value <b>null</b>, to string.\n",
    "2. The conversion of strings is done automatically whenever you use the concatenation operator (<b>+</b>) and one of the arguments is not of type string. In this case the argument is <b>converted to a string</b> and the operator returns a new string representing the concatenation of the two strings.\n",
    "3. Another way to convert different objects to type string is to call the method <b>ToString()</b> of the variable or the value. <b>It is valid for all data types in .NET Framework.</b>\n",
    "4. Even calling <b>3.ToString()</b> is fully valid in C# and the result will return the string <b>\"3\"</b>.\n",
    "5. Note that the <b>\"+\"</b> for concatenating strings can cause <b>unpleasant effects</b> on the addition of numbers, because it has equal priority with the operator <b>\"+\"</b> for mathematical addition.\n",
    "6. <b>Unless the priorities of the operations are changed by placing the brackets, they will always be executed from left to right.</b>"
   ]
  },
  {
   "cell_type": "markdown",
   "metadata": {},
   "source": [
    "## Expressions\n",
    "<b>Info: </b>\n",
    "1. <b>Expressions are sequences of operators, literals and variables</b> that are calculated to a value of some type (number, string, object or other type).\n"
   ]
  },
  {
   "cell_type": "markdown",
   "metadata": {},
   "source": []
  },
  {
   "cell_type": "markdown",
   "metadata": {},
   "source": []
  }
 ],
 "metadata": {
  "kernelspec": {
   "display_name": ".NET (C#)",
   "language": "C#",
   "name": ".net-csharp"
  },
  "language_info": {
   "file_extension": ".cs",
   "mimetype": "text/x-csharp",
   "name": "C#",
   "pygments_lexer": "csharp",
   "version": "8.0"
  }
 },
 "nbformat": 4,
 "nbformat_minor": 4
}
