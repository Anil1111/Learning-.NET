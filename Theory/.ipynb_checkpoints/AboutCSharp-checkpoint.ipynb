{
 "cells": [
  {
   "cell_type": "markdown",
   "metadata": {},
   "source": [
    "# About C#\n",
    "\n"
   ]
  },
  {
   "cell_type": "markdown",
   "metadata": {},
   "source": [
    "<b>1.</b> In the .NET Framework, there is a special component of the <b>CLR</b> that looks after memory management. It is called a <b>\"garbage collector\"</b> (automated memory cleaning system). The garbage collector has the following main tasks: to check when the allocated memory for variables is no longer in use, to release it and make it available for allocation of new objects.\n",
    "\n",
    "<b>2.</b> It is important to note that it is not exactly clear at what moment the memory gets cleaned of unused objects (local variables for example). According to the C# language specifications, it happens at some moment after a given variable gets out of scope but it is not specified, whether this happens instantly, after some time or when the available memory becomes insufficient for the normal program operation.\n",
    "\n",
    "<b>3.</b> Frameworks in .NET: WPF, ASP.NET MVC.\n",
    "\n",
    "<b>4.</b> Microsoft Intermediate Language (MSIL).\n",
    "\n",
    "<b>5.</b> The idea for independence from the environment has been set in the earliest stages of creation of the .NET platform and is implemented with the help of a little trick. The output code is not compiled to instructions for a specific microprocessor and does not use the features of a specific operating system; it is compiled to the so called <b>Microsoft Intermediate Language (MSIL).</b> This <b>MSIL</b> is not directly executed by the microprocessor but <b>from a virtual environment</b> called <b>Common Language Runtime (CLR)</b>.\n",
    "\n",
    "<b>6.</b> <b>Common Language Runtime (CLR) – is the Heart of .NET !</b>\n",
    "\n",
    "<b>7.</b> CLR is an abstract computing machine (virtual machine). Similarly to physical computers, it supports a set of instructions, registries, memory access and input-output operations. CLR ensures a controlled execution of the .NET programs using the full capabilities of the processor and the operating system. CLR also carries out the managed access to the memory and the other resources of the computer, while adhering to the access rules set when the program is executed.\n",
    "\n",
    "<b>8.</b> The .NET platform contains the C# language, CLR and many auxiliary instruments and libraries ready for use.\n",
    "\n",
    "<b>9.</b> There are a few versions of .NET according to the targeted user group:\n",
    "   1. .NET Framework is the most common version of the .NET environment because of its general purpose. It is used in the development of console applications, Windows applications with a graphical user interface, web applications and many more.\n",
    "   2. .NET Compact Framework (CF) is a \"light\" version of the standard .NET Framework and is used in the development of applications for mobile phones and other PDA devices using Windows Mobile Edition.\n",
    "   3. Silverlight is also a \"light\" version of the .NET Framework, intended to be executed on web browsers in order to implement multimedia and Rich Internet Applications.\n",
    "   4. .NET for Windows Store apps is a subset of .NET Framework designed for development and execution of .NET applications in Windows 8 and Windows RT environment (the so called Windows Store Apps).\n",
    "    \n",
    "<b>10.</b> The contemporary programmer uses libraries and components every day, and saves a lot of effort by doing so.\n",
    "\n",
    "<b>11.</b> A .NET technology is the collection of .NET classes, libraries, tools, standards and other programming means and established development models, which determine the technological framework for creating a certain type of application.\n",
    "\n",
    "<b>12.</b> Each .NET library or technology is utilized by creating objects and calling their methods. The set of public classes and methods in the programming libraries is called <b>Application Programming Interface (API)</b> or just <b>API</b>. \n",
    "\n",
    "<b>13.</b> As an example we can look at the .NET API itself; it is a set of .NET class libraries, expanding the capabilities of the language and adding high-level functionality. All .NET technologies offer a public API. The technologies are often referred to simply as API, which adds certain functionality. For example: API for working with files, API for working with charts, API for working with printers, API for reading and creating Word and Excel documents, API for creating PDF documents, Web development API, etc.\n",
    "\n",
    "<b>14.</b> The process, which generates source code from an existing executable binary file (.NET assembly – .exe or .dll) is called decompiling.\n",
    "\n",
    "<b>15.</b> CTS = Common Type System. (in .NET Framework)\n",
    "\n",
    "<b>16.</b> <b>int</b> type in C5 => <b>System.Int32</b> type in CTS. |signed 32-bit integer|\n",
    "\n",
    "<b>17.</b> <b>long</b> type in C5 => <b>System.Int64</b> type in CTS.\n",
    "\n",
    "<b>18.</b> By default all real numbers are considered <b>double</b>.\n",
    "\n",
    "<b>19.</b> The real types in C# we went over – float and double – differ not only by the range of possible values they can take, but also by their precision (the number of decimal digits, which they can preserve). The first type has a precision of 7 digits, the second – 15-16 digits."
   ]
  },
  {
   "cell_type": "markdown",
   "metadata": {},
   "source": [
    "### Object Type\n",
    "\n",
    "<b>Info:</b>\n",
    "1. Object type is a special type, which is the parent of all other types in the .NET Framework.\n",
    "2. Declared with the keyword object, it can take values from any other type.\n",
    "3. <b>It is a reference type, i.e. an index (address) of a memory area which stores the actual value.</b>"
   ]
  },
  {
   "cell_type": "markdown",
   "metadata": {},
   "source": [
    "### Nullable Types\n",
    "\n",
    "<b>Info:</b>\n",
    "1. Nullable types are specific wrappers around the value types (as int, double and bool) that allow storing data with a null value.\n",
    "2. This provides opportunity for types that generally do not allow lack of value (i.e. value null) to be used as reference types and to accept both normal values and the special one null. Thus nullable types hold an optional value.\n",
    "3. Nullable< int> [variable name] = null; |OR| [variable_type]? [variable name] = null; |OR|  [variable_type]? [variable name] = [variable name];\n"
   ]
  },
  {
   "cell_type": "markdown",
   "metadata": {},
   "source": [
    "### Variables:\n",
    "\n",
    "<b>Info: </b>\n",
    "1. A variable is a named area of memory, which stores a value from a particular data type, and that area of memory is accessible in the program by its name.\n",
    "2. Variables can be stored directly in the <b>operational memory of the program</b>(in the <b>stack</b>)  or in the <b>dynamic memory</b> in which larger objects are stored (such as character strings and arrays). \n",
    "\n",
    "\n",
    "3. <b>Primitive data types</b> (numbers, char, bool) are called value types because they store their value directly in the <b>program stack</b>.\n",
    "\n",
    "\n",
    "4.  <b>Reference data types</b> (such as strings, objects and arrays) are an address, pointing to the <b>dynamic memory</b> where their value is stored. They can be <b>dynamically allocated and released</b> i.e. their size is not fixed in advance contrary to the case of value types.\n",
    "\n"
   ]
  },
  {
   "cell_type": "markdown",
   "metadata": {},
   "source": [
    "#### Naming Variables - Rules\n",
    "\n",
    "* The name of the variable can be any of our choice but must follow certain rules defined in the C# language specification:\n",
    "1. Variable names can contain the letters a-z, A-Z, the digits 0-9 as well as the character '_'.\n",
    "2. Variable names cannot start with a digit.\n",
    "3. Variable names cannot coincide with a keyword of the C# language. For example, base, char, default, int, object, this, null and many others cannot be used as variable names.\n",
    "\n",
    "#### Naming Variables - Recommendations\n",
    "\n",
    "1. The names should be descriptive and explain what the variable is used for. For example, an appropriate name for a variable storing a person’s name is personName and inappropriate name is a37.\n",
    "2. Only Latin characters should be used. Although Cyrillic is allowed by the compiler, it is not a good practice to use it in variable names or in the rest of the identifiers within the program.\n",
    "3. In C# it is generally accepted that variable names should start with a small letter and include small letters, every new word, however, starts with a capital letter. For instance, the name firstName is correct and better to use than firstname or first_name. Usage of the character _ in the variable names is considered a bad naming style.\n",
    "4. Variable names should be neither too long nor too short – they just need to clarify the purpose of the variable within its context.\n",
    "5. Uppercase and lowercase letters should be used carefully as C# distinguishes them. For instance, age and Age are different variables.\n",
    "\n",
    "* <b>Always try to use short and precise names when naming the variables. Follow the rule that the variable name should state what it is used for, e.g. the name should answer the question \"what value is stored in this variable\". When this condition is not fulfilled then try to find a better name. Digits are not appropriate to be used in variable names.</b>"
   ]
  },
  {
   "cell_type": "markdown",
   "metadata": {},
   "source": [
    "### Value and Reference Types\n",
    "\n",
    "<b>Info:</b>\n",
    "\n",
    "1. Data types in C# are two types: value and reference.\n",
    "\n",
    "### Value Types\n",
    "<b>Info:</b>\n",
    "\n",
    "1. <b>Value types</b> are stored in the <b>program execution stack</b> and directly contain their value.\n",
    "2. Value types are the primitive numeric types, the character type and the Boolean type: <b>sbyte, byte, short, ushort, int, long, ulong, float, double, decimal, char, bool</b>.\n",
    "3. The memory allocated for them is released when the program exits their range, i.e. when the block of code in which they are defined completes its execution.\n",
    "4. For example, a variable declared in the method Main() of the program is stored in the stack until the program completes execution of this method, i.e. until it finishes (C# programs terminate after fully executing the Main() method)."
   ]
  },
  {
   "cell_type": "markdown",
   "metadata": {},
   "source": [
    "### Reference Types\n",
    "<b>Info:</b>\n",
    "\n",
    "1. <b>Reference types</b> keep a <b>reference (address), in the program execution stack,</b> and that <b>reference points to the dynamic memory (heap)</b>, where their <b>value</b> is stored.\n",
    "2. The reference is a <b>pointer</b> (address of the memory cell) <b>indicating the actual location of the value in the heap</b>.\n",
    "3. All reference types can hold a <b>null</b> value. This is a special service value, which means that there is no value. \n",
    "4. <b>Reference types</b> allocate <b>dynamic memory</b> for their creation.\n",
    "5. They also release some dynamic memory for a <b>memory cleaning (garbage collector)</b>, when it is no longer used by the program.\n",
    "6. It is unknown exactly when a given reference variable will be released of the garbage collector as this depends on the memory load and other factors. Since the allocation and release of memory is a slow operation, <b>it can be said that the reference types are slower than the value ones.</b>\n",
    "7. As <b>reference data types</b> are <b>allocated and released dynamically</b> during program execution, their size might not be known in advance.\n",
    "8. Reference types are all <b>classes</b>, <b>arrays</b> and <b>interfaces</b> such as the types: <b>object, string, byte[]</b>.\n",
    "9. For now, it is enough to know that all types, which are not value, are reference and their values are stored in the <b>heap</b> (the dynamically allocated memory)."
   ]
  },
  {
   "cell_type": "markdown",
   "metadata": {},
   "source": [
    "### Literals\n",
    "<b>Info:</b>\n",
    "1. Primitive types, which we already met, are special data types built into the C# language. Their values specified in the source code of the program are called <b>literals.</b>\n",
    "2. Types of <b>Literals</b>:\n",
    "    1. Boolean\n",
    "    2. Integer\n",
    "    3. Real\n",
    "    4. Character\n",
    "    5. String\n",
    "    6. Object literal null\n",
    "3. The character \\ (backslash) is also called an <b>escaping character</b> because it allows the display on screen (or other output device) of characters that have special meaning or effect and cannot be represented directly in the source code."
   ]
  },
  {
   "cell_type": "markdown",
   "metadata": {},
   "source": [
    "### Operators\n",
    "<b>Info:</b>\n",
    "\n",
    "1. All binary operators in C# are left-associative, i.e. the expressions are calculated from left to right, except for the assignment operators. All assignment operators and conditional operators ?: and ?? are right-associative, i.e. the expressions are calculated from right to left. The unary operators are not associative.\n",
    "2. <b>Highest priority:</b>\n",
    "    1. (, )\n",
    "    2. ++, -- (as postfix), new, (type), typeof, sizeof\n",
    "    3. ++, -- (as prefix), +, - (unary), !, ~\n",
    "    4. *, /, %\n",
    "    5. + (string concatenation)\n",
    "    6. +, -\n",
    "    7. <<, >>\n",
    "    8. <, >, <=, >=, is, as\n",
    "    9. ==, !=\n",
    "    10. &, ^, |\n",
    "3. <b>Lowest priority:</b>\n",
    "    1. &&\n",
    "    2. ||\n",
    "    3. ?:, ??\n",
    "    4. =, *=, /=, %=, +=, -=, <<=, >>=, &=, ^=, |=\n"
   ]
  },
  {
   "cell_type": "markdown",
   "metadata": {},
   "source": [
    "### Arithmetical Operators\n",
    "\n",
    "1. <b>Division operator</b>: <b>/</b> (<b>integer division</b>)\n",
    "    1. The division operator / has different effect on integer and real numbers. When we divide an integer by an integer (like int, long and sbyte) the returned value is an integer (no rounding, the fractional part is cut). Such division is called an integer division. Example of integer division: 7 / 3 = 2.\n",
    "    2. Integer division by 0 is not allowed and causes a runtime exception DivideByZeroException.\n",
    "2. <b>Real division</b>\n",
    "    1. When dividing two real numbers or two numbers, one of which is real (e.g. float, double, etc.), a real division is done (not integer), and the result is a real number with a whole and a fractional part. For example: 5.0 / 2 = 2.5. In the division of real numbers it is allowed to divide by 0.0 and respectively the result is +∞ (Infinity), -∞ (-Infinity) or NaN (invalid value).\n",
    "3. <b>increasing by one</b>: <b>++</b> (<b>increment</b>)"
   ]
  },
  {
   "cell_type": "markdown",
   "metadata": {},
   "source": [
    "### Logical Operators\n",
    "<b>Info:</b>\n",
    "\n",
    "1. Logical (Boolean) operators take Boolean values and return a Boolean result (true or false).\n",
    "2. The basic Boolean operators are <b>\"AND\" (&&)</b>, <b>\"OR\" (||)</b>, <b>\"exclusive OR\" (^)</b> and <b>logical negation (!)</b>.\n",
    "3. Laws of De Morgan: \n",
    "    1. Logical operations fall under the laws of De Morgan from the mathematical logic: \n",
    "        1. !(a && b) == (!a || !b)\n",
    "        2. !(a || b) == (!a && !b)"
   ]
  },
  {
   "cell_type": "markdown",
   "metadata": {},
   "source": [
    "### Operator for Concatenation of Strings\n",
    "<b>Info:</b>\n",
    "\n",
    "1. <b>Concatenation (joining, gluing) of strings is a slow operation and should be used carefully. It is recommended to use the StringBuilder class for iterative (repetitive) operations on strings.</b>\n",
    "2. The <b>StringBuilder class</b> must be used for join operations on strings performed in a loop."
   ]
  },
  {
   "cell_type": "markdown",
   "metadata": {},
   "source": [
    "### Bitwise Operators\n",
    "<b>Info:</b>\n",
    "\n",
    "1. In programming there are two bitwise operators that have no analogue in logical operators. These are the bit shift left (<<) and bit shift right (>>). Used on numerical values, they move all the bits of the value to the left or right. The bits that fall outside the number are lost and replaced with 0.\n",
    "2. Bit shifting itself can be represented as multiplication (bitwise shifting left) or division (bitwise shifting right) by a power of 2.\n",
    "3. "
   ]
  },
  {
   "cell_type": "markdown",
   "metadata": {},
   "source": []
  },
  {
   "cell_type": "markdown",
   "metadata": {},
   "source": []
  },
  {
   "cell_type": "markdown",
   "metadata": {},
   "source": []
  },
  {
   "cell_type": "markdown",
   "metadata": {},
   "source": []
  },
  {
   "cell_type": "markdown",
   "metadata": {},
   "source": []
  }
 ],
 "metadata": {
  "kernelspec": {
   "display_name": ".NET (C#)",
   "language": "C#",
   "name": ".net-csharp"
  },
  "language_info": {
   "file_extension": ".cs",
   "mimetype": "text/x-csharp",
   "name": "C#",
   "pygments_lexer": "csharp",
   "version": "8.0"
  }
 },
 "nbformat": 4,
 "nbformat_minor": 4
}
